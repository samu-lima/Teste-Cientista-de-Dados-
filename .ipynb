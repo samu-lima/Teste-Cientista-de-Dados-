{
 "cells": [
  {
   "cell_type": "code",
   "execution_count": 1,
   "id": "3f27e0a2",
   "metadata": {},
   "outputs": [],
   "source": [
    "## Teste - Ciência de Dados / Otimização e Pesquisa Operacional (Short Track)\n",
    "\n",
    "#Teste técnico para nossas posições em Ciência de Dados (short track)\n",
    "\n",
    "#O seguinte teste tem por premissa ser um problema base (Ref. <a href=\"https://teaching.cornell.edu/teaching-resources/engaging-students/problem-based-learningproblem\">problem based learning</a>) de modo que você pode usá-lo como achar adequado tendo em vista a demonstração de seus conhecimentos técnicos.\n",
    "\n",
    "#Queremos entender melhor seu jeito de atacar problemas desafiadores em amostras de mundo real, além de que, do modo que está estruturada, a entrega, apesar de rápida, nos permite verificar mais detalhes de seu perfil profissional tais como organização, pontualidade e percepção quanto a suas skills de data wrangling, validação e governança e programação Python. Recomendamos ainda que o teste seja feito em no máximo 6 horas (não se preocupe em respostas muito detalhadas ou em complexidades que simplesmente não funcionariam no mundo real!).\n",
    "\n",
    "#As entregas devem ser via envio de link para um github público (ou similar) o qual contenha sua solução para o cenário a seguir. Favor não citar a Lambda3 em seu repositório."
   ]
  },
  {
   "cell_type": "code",
   "execution_count": 2,
   "id": "c47b7885",
   "metadata": {},
   "outputs": [],
   "source": [
    "## Cenário I\n",
    "\n",
    "#No seguinte cenário você é a pessoa cientista de dados por trás de um projeto de analytics junto a uma grande indústria norte-americana.\n",
    "\n",
    "#Os dados a serem ingeridos e analisados em nossa plataforma de Big Data são dados de compras (orders), pessoas (people) e devoluções (returns).\n",
    "\n",
    "#Sua primeira tarefa, a partir desse cenário, deve ser um relatório (de preferência um <a href=\"https://jupyter.org/\">jupyter notebook</a> ou <a href=\"https://colab.research.google.com/\">colab notebook</a> relatando algumas das anomalias encontradas e investigações possíveis (falamos que aqui encorajamos gente curiosa, certo?!)\n",
    "\n",
    "#O dataset a ser utilizado nesse cenário (.zip com arquivo CSV) você encontra <a href=\"https://drive.google.com/file/d/1a8UCbzXFbqTQi0x8tqCXPRTlB--E7o8I/view?usp=sharing\">aqui</a>.\n",
    "\n",
    "#Temos um apreço muito grande por qualidade e disponibilidade. Sendo assim, é bom contarmos com métricas para nos previnir e alertar sobre quaisquer problemas bem como metrificar e monitorar as arquitetura proposta. Logo, apreciamos se você conseguir entregar testes que mensurem a qualidade dos dados junto à sua solução desse primeiro entregável.                                           "
   ]
  },
  {
   "cell_type": "code",
   "execution_count": 3,
   "id": "53c5024f",
   "metadata": {},
   "outputs": [],
   "source": [
    "## ------- Resposta Cenário I ------- ##\n",
    "# investigação!"
   ]
  },
  {
   "cell_type": "code",
   "execution_count": 29,
   "id": "407899da",
   "metadata": {},
   "outputs": [],
   "source": [
    "#importando bibliotecas \n",
    "\n",
    "import numpy as np\n",
    "import pandas as pd\n",
    "import matplotlib.pyplot as plt\n",
    "import matplotlib.dates as mdates\n",
    "from datetime import datetime\n",
    "from pandas.plotting import register_matplotlib_converters"
   ]
  },
  {
   "cell_type": "code",
   "execution_count": 41,
   "id": "6303c982",
   "metadata": {},
   "outputs": [
    {
     "name": "stdout",
     "output_type": "stream",
     "text": [
      "C:\\Users\\Samuel\n"
     ]
    }
   ],
   "source": [
    "import os\n",
    "print(os.getcwd())\n",
    "df = pd.read_excel(r'C:\\Users\\Samuel\\Documents\\GitHub\\Teste-Cientista-de-Dados-\\sample.xls')\n",
    "#r'C:\\Users\\Samuel\\Documents\\GitHub\\Teste-Cientista-de-Dados-\\sample.xls"
   ]
  },
  {
   "cell_type": "code",
   "execution_count": 40,
   "id": "52eb6b17",
   "metadata": {},
   "outputs": [
    {
     "data": {
      "text/html": [
       "<div>\n",
       "<style scoped>\n",
       "    .dataframe tbody tr th:only-of-type {\n",
       "        vertical-align: middle;\n",
       "    }\n",
       "\n",
       "    .dataframe tbody tr th {\n",
       "        vertical-align: top;\n",
       "    }\n",
       "\n",
       "    .dataframe thead th {\n",
       "        text-align: right;\n",
       "    }\n",
       "</style>\n",
       "<table border=\"1\" class=\"dataframe\">\n",
       "  <thead>\n",
       "    <tr style=\"text-align: right;\">\n",
       "      <th></th>\n",
       "      <th>Row ID</th>\n",
       "      <th>Order ID</th>\n",
       "      <th>Order Date</th>\n",
       "      <th>Ship Date</th>\n",
       "      <th>Ship Mode</th>\n",
       "      <th>Customer ID</th>\n",
       "      <th>Customer Name</th>\n",
       "      <th>Segment</th>\n",
       "      <th>Country</th>\n",
       "      <th>City</th>\n",
       "      <th>...</th>\n",
       "      <th>Postal Code</th>\n",
       "      <th>Region</th>\n",
       "      <th>Product ID</th>\n",
       "      <th>Category</th>\n",
       "      <th>Sub-Category</th>\n",
       "      <th>Product Name</th>\n",
       "      <th>Sales</th>\n",
       "      <th>Quantity</th>\n",
       "      <th>Discount</th>\n",
       "      <th>Profit</th>\n",
       "    </tr>\n",
       "  </thead>\n",
       "  <tbody>\n",
       "    <tr>\n",
       "      <th>0</th>\n",
       "      <td>1</td>\n",
       "      <td>CA-2016-152156</td>\n",
       "      <td>2016-11-08</td>\n",
       "      <td>2016-11-11</td>\n",
       "      <td>Second Class</td>\n",
       "      <td>CG-12520</td>\n",
       "      <td>Claire Gute</td>\n",
       "      <td>Consumer</td>\n",
       "      <td>United States</td>\n",
       "      <td>Henderson</td>\n",
       "      <td>...</td>\n",
       "      <td>42420</td>\n",
       "      <td>South</td>\n",
       "      <td>FUR-BO-10001798</td>\n",
       "      <td>Furniture</td>\n",
       "      <td>Bookcases</td>\n",
       "      <td>Bush Somerset Collection Bookcase</td>\n",
       "      <td>261.9600</td>\n",
       "      <td>2</td>\n",
       "      <td>0.00</td>\n",
       "      <td>41.9136</td>\n",
       "    </tr>\n",
       "    <tr>\n",
       "      <th>1</th>\n",
       "      <td>2</td>\n",
       "      <td>CA-2016-152156</td>\n",
       "      <td>2016-11-08</td>\n",
       "      <td>2016-11-11</td>\n",
       "      <td>Second Class</td>\n",
       "      <td>CG-12520</td>\n",
       "      <td>Claire Gute</td>\n",
       "      <td>Consumer</td>\n",
       "      <td>United States</td>\n",
       "      <td>Henderson</td>\n",
       "      <td>...</td>\n",
       "      <td>42420</td>\n",
       "      <td>South</td>\n",
       "      <td>FUR-CH-10000454</td>\n",
       "      <td>Furniture</td>\n",
       "      <td>Chairs</td>\n",
       "      <td>Hon Deluxe Fabric Upholstered Stacking Chairs,...</td>\n",
       "      <td>731.9400</td>\n",
       "      <td>3</td>\n",
       "      <td>0.00</td>\n",
       "      <td>219.5820</td>\n",
       "    </tr>\n",
       "    <tr>\n",
       "      <th>2</th>\n",
       "      <td>3</td>\n",
       "      <td>CA-2016-138688</td>\n",
       "      <td>2016-06-12</td>\n",
       "      <td>2016-06-16</td>\n",
       "      <td>Second Class</td>\n",
       "      <td>DV-13045</td>\n",
       "      <td>Darrin Van Huff</td>\n",
       "      <td>Corporate</td>\n",
       "      <td>United States</td>\n",
       "      <td>Los Angeles</td>\n",
       "      <td>...</td>\n",
       "      <td>90036</td>\n",
       "      <td>West</td>\n",
       "      <td>OFF-LA-10000240</td>\n",
       "      <td>Office Supplies</td>\n",
       "      <td>Labels</td>\n",
       "      <td>Self-Adhesive Address Labels for Typewriters b...</td>\n",
       "      <td>14.6200</td>\n",
       "      <td>2</td>\n",
       "      <td>0.00</td>\n",
       "      <td>6.8714</td>\n",
       "    </tr>\n",
       "    <tr>\n",
       "      <th>3</th>\n",
       "      <td>4</td>\n",
       "      <td>US-2015-108966</td>\n",
       "      <td>2015-10-11</td>\n",
       "      <td>2015-10-18</td>\n",
       "      <td>Standard Class</td>\n",
       "      <td>SO-20335</td>\n",
       "      <td>Sean O'Donnell</td>\n",
       "      <td>Consumer</td>\n",
       "      <td>United States</td>\n",
       "      <td>Fort Lauderdale</td>\n",
       "      <td>...</td>\n",
       "      <td>33311</td>\n",
       "      <td>South</td>\n",
       "      <td>FUR-TA-10000577</td>\n",
       "      <td>Furniture</td>\n",
       "      <td>Tables</td>\n",
       "      <td>Bretford CR4500 Series Slim Rectangular Table</td>\n",
       "      <td>957.5775</td>\n",
       "      <td>5</td>\n",
       "      <td>0.45</td>\n",
       "      <td>-383.0310</td>\n",
       "    </tr>\n",
       "    <tr>\n",
       "      <th>4</th>\n",
       "      <td>5</td>\n",
       "      <td>US-2015-108966</td>\n",
       "      <td>2015-10-11</td>\n",
       "      <td>2015-10-18</td>\n",
       "      <td>Standard Class</td>\n",
       "      <td>SO-20335</td>\n",
       "      <td>Sean O'Donnell</td>\n",
       "      <td>Consumer</td>\n",
       "      <td>United States</td>\n",
       "      <td>Fort Lauderdale</td>\n",
       "      <td>...</td>\n",
       "      <td>33311</td>\n",
       "      <td>South</td>\n",
       "      <td>OFF-ST-10000760</td>\n",
       "      <td>Office Supplies</td>\n",
       "      <td>Storage</td>\n",
       "      <td>Eldon Fold 'N Roll Cart System</td>\n",
       "      <td>22.3680</td>\n",
       "      <td>2</td>\n",
       "      <td>0.20</td>\n",
       "      <td>2.5164</td>\n",
       "    </tr>\n",
       "  </tbody>\n",
       "</table>\n",
       "<p>5 rows × 21 columns</p>\n",
       "</div>"
      ],
      "text/plain": [
       "   Row ID        Order ID Order Date  Ship Date       Ship Mode Customer ID  \\\n",
       "0       1  CA-2016-152156 2016-11-08 2016-11-11    Second Class    CG-12520   \n",
       "1       2  CA-2016-152156 2016-11-08 2016-11-11    Second Class    CG-12520   \n",
       "2       3  CA-2016-138688 2016-06-12 2016-06-16    Second Class    DV-13045   \n",
       "3       4  US-2015-108966 2015-10-11 2015-10-18  Standard Class    SO-20335   \n",
       "4       5  US-2015-108966 2015-10-11 2015-10-18  Standard Class    SO-20335   \n",
       "\n",
       "     Customer Name    Segment        Country             City  ...  \\\n",
       "0      Claire Gute   Consumer  United States        Henderson  ...   \n",
       "1      Claire Gute   Consumer  United States        Henderson  ...   \n",
       "2  Darrin Van Huff  Corporate  United States      Los Angeles  ...   \n",
       "3   Sean O'Donnell   Consumer  United States  Fort Lauderdale  ...   \n",
       "4   Sean O'Donnell   Consumer  United States  Fort Lauderdale  ...   \n",
       "\n",
       "  Postal Code  Region       Product ID         Category Sub-Category  \\\n",
       "0       42420   South  FUR-BO-10001798        Furniture    Bookcases   \n",
       "1       42420   South  FUR-CH-10000454        Furniture       Chairs   \n",
       "2       90036    West  OFF-LA-10000240  Office Supplies       Labels   \n",
       "3       33311   South  FUR-TA-10000577        Furniture       Tables   \n",
       "4       33311   South  OFF-ST-10000760  Office Supplies      Storage   \n",
       "\n",
       "                                        Product Name     Sales  Quantity  \\\n",
       "0                  Bush Somerset Collection Bookcase  261.9600         2   \n",
       "1  Hon Deluxe Fabric Upholstered Stacking Chairs,...  731.9400         3   \n",
       "2  Self-Adhesive Address Labels for Typewriters b...   14.6200         2   \n",
       "3      Bretford CR4500 Series Slim Rectangular Table  957.5775         5   \n",
       "4                     Eldon Fold 'N Roll Cart System   22.3680         2   \n",
       "\n",
       "   Discount    Profit  \n",
       "0      0.00   41.9136  \n",
       "1      0.00  219.5820  \n",
       "2      0.00    6.8714  \n",
       "3      0.45 -383.0310  \n",
       "4      0.20    2.5164  \n",
       "\n",
       "[5 rows x 21 columns]"
      ]
     },
     "execution_count": 40,
     "metadata": {},
     "output_type": "execute_result"
    }
   ],
   "source": [
    "df.head()"
   ]
  },
  {
   "cell_type": "code",
   "execution_count": 300,
   "id": "72653ba1",
   "metadata": {},
   "outputs": [
    {
     "name": "stdout",
     "output_type": "stream",
     "text": [
      "nº colunas: 21\n",
      "nº linhas: 9994\n"
     ]
    }
   ],
   "source": [
    "n_col = df.shape[1]\n",
    "n_lin = df.shape[0]\n",
    "print('nº colunas:', n_col)\n",
    "print('nº linhas:', n_lin)"
   ]
  },
  {
   "cell_type": "code",
   "execution_count": 301,
   "id": "5b0f2a8c",
   "metadata": {},
   "outputs": [
    {
     "data": {
      "text/plain": [
       "Row ID           True\n",
       "Order ID         True\n",
       "Order Date       True\n",
       "Ship Date        True\n",
       "Ship Mode        True\n",
       "Customer ID      True\n",
       "Customer Name    True\n",
       "Segment          True\n",
       "Country          True\n",
       "City             True\n",
       "State            True\n",
       "Postal Code      True\n",
       "Region           True\n",
       "Product ID       True\n",
       "Category         True\n",
       "Sub-Category     True\n",
       "Product Name     True\n",
       "Sales            True\n",
       "Quantity         True\n",
       "Discount         True\n",
       "Profit           True\n",
       "dtype: bool"
      ]
     },
     "execution_count": 301,
     "metadata": {},
     "output_type": "execute_result"
    }
   ],
   "source": [
    "np.sum(df.isnull()) == 0 #as colunas estão completas? (se estiverem-> True, se estiverem com valores faltando->False)"
   ]
  },
  {
   "cell_type": "code",
   "execution_count": 302,
   "id": "96f4a18e",
   "metadata": {},
   "outputs": [],
   "source": [
    "# Não há dados faltando! (milagre)"
   ]
  },
  {
   "cell_type": "code",
   "execution_count": 303,
   "id": "8372fc7c",
   "metadata": {},
   "outputs": [],
   "source": [
    "#verificando unicidade de Row ID, Order ID e Product ID"
   ]
  },
  {
   "cell_type": "code",
   "execution_count": 304,
   "id": "91f4df99",
   "metadata": {},
   "outputs": [
    {
     "name": "stdout",
     "output_type": "stream",
     "text": [
      "existem duplicadas em Row ID:  False\n",
      "existem duplicadas em Order ID:  True\n",
      "existem duplicadas em Product ID:  True\n"
     ]
    }
   ],
   "source": [
    "bool_RowID = df['Row ID'].duplicated().any()\n",
    "bool_OrderID = df['Order ID'].duplicated().any()\n",
    "bool_ProdID = df['Product ID'].duplicated().any()\n",
    "print('existem duplicadas em Row ID: ', bool_RowID)\n",
    "print('existem duplicadas em Order ID: ', bool_OrderID)\n",
    "print('existem duplicadas em Product ID: ', bool_ProdID)"
   ]
  },
  {
   "cell_type": "code",
   "execution_count": 305,
   "id": "5415eab8",
   "metadata": {},
   "outputs": [],
   "source": [
    "# O indíce 'Row ID' é único e o Product ID não, o que faz sentido. Curioso é não haverem Ordens unicas (Order ID) o que pode representar uma inconstencia nos dados\n",
    "# Customer ID podem existir duplicadas então, não a coloquei nessa abordagem"
   ]
  },
  {
   "cell_type": "code",
   "execution_count": 306,
   "id": "6752ef72",
   "metadata": {},
   "outputs": [
    {
     "name": "stdout",
     "output_type": "stream",
     "text": [
      "Oldest Order Date:  2014-01-03 00:00:00\n",
      "Youngest Order Date:  2017-12-30 00:00:00\n",
      "\n",
      "Oldest Ship Date:  2014-01-07 00:00:00\n",
      "Youngest Ship Date:  2018-01-05 00:00:00\n"
     ]
    }
   ],
   "source": [
    "#verificando período dos dados\n",
    "Order_Date_mais_antiga = min(df['Order Date'])\n",
    "Order_Date_mais_recente = max(df['Order Date'])\n",
    "Ship_Date_mais_antiga = min(df['Ship Date'])\n",
    "Ship_Date_mais_recente = max(df['Ship Date'])\n",
    "print('Oldest Order Date: ', Order_Date_mais_antiga)\n",
    "print('Youngest Order Date: ', Order_Date_mais_recente)\n",
    "print('')\n",
    "print('Oldest Ship Date: ', Ship_Date_mais_antiga)\n",
    "print('Youngest Ship Date: ', Ship_Date_mais_recente)"
   ]
  },
  {
   "cell_type": "code",
   "execution_count": 307,
   "id": "2703c604",
   "metadata": {},
   "outputs": [
    {
     "data": {
      "text/plain": [
       "<AxesSubplot:xlabel='Order Date'>"
      ]
     },
     "execution_count": 307,
     "metadata": {},
     "output_type": "execute_result"
    },
    {
     "data": {
      "image/png": "[encoded data removed]",
      "text/plain": [
       "<Figure size 432x288 with 1 Axes>"
      ]
     },
     "metadata": {
      "needs_background": "light"
     },
     "output_type": "display_data"
    }
   ],
   "source": [
    "# Distribuição de Ordens ao longo do ano - quadrimestes (fim de ano bomba!)\n",
    "df1 = df[['Row ID', 'Order Date']]\n",
    "df1 = df1.groupby(df['Order Date'].dt.to_period('Q')).sum()\n",
    "df1.plot(kind='bar')"
   ]
  },
  {
   "cell_type": "code",
   "execution_count": 308,
   "id": "8740185e",
   "metadata": {},
   "outputs": [
    {
     "data": {
      "text/plain": [
       "<AxesSubplot:xlabel='Ship Date'>"
      ]
     },
     "execution_count": 308,
     "metadata": {},
     "output_type": "execute_result"
    },
    {
     "data": {
      "image/png": "[encoded data removed]",
      "text/plain": [
       "<Figure size 432x288 with 1 Axes>"
      ]
     },
     "metadata": {
      "needs_background": "light"
     },
     "output_type": "display_data"
    }
   ],
   "source": [
    "# Distribuição de Entregas ao longo do ano - quadrimestes (fim de ano bomba!-> como esperado, bem similar ao de ordens)\n",
    "df2 = df[['Row ID', 'Ship Date']]\n",
    "df2 = df2.groupby(df['Ship Date'].dt.to_period('Q')).sum()\n",
    "df2.plot(kind='bar')"
   ]
  },
  {
   "cell_type": "code",
   "execution_count": 309,
   "id": "e535f541",
   "metadata": {},
   "outputs": [],
   "source": [
    "# Agora farei uma análise visual das variáveis categoricas, assim fica explicito o que é mais ou menos relevante dentro de cada categoria!\n",
    "# Ao mesmo tempo, ficará claro se houver alguma informação distoante que se mostre relevante, como categorias \"NaN\" relevantes ou ausencia de padronização"
   ]
  },
  {
   "cell_type": "code",
   "execution_count": 310,
   "id": "dfda353e",
   "metadata": {},
   "outputs": [
    {
     "data": {
      "image/png": "[encoded data removed]",
      "text/plain": [
       "<Figure size 432x288 with 1 Axes>"
      ]
     },
     "metadata": {
      "needs_background": "light"
     },
     "output_type": "display_data"
    }
   ],
   "source": [
    "#analisando variáveis categoricas: Ship Mode\n",
    "Ship_mode = df['Ship Mode'].value_counts()\n",
    "(Ship_mode/n_lin).plot(kind='bar')\n",
    "plt.title('Distribution of Ship Modes')\n",
    "plt.gcf().autofmt_xdate()"
   ]
  },
  {
   "cell_type": "code",
   "execution_count": 15,
   "id": "0df113ac",
   "metadata": {},
   "outputs": [
    {
     "data": {
      "image/png": "[encoded data removed]",
      "text/plain": [
       "<Figure size 432x288 with 1 Axes>"
      ]
     },
     "metadata": {
      "needs_background": "light"
     },
     "output_type": "display_data"
    }
   ],
   "source": [
    "#analisando variáveis categoricas: Segment\n",
    "Segment = df['Segment'].value_counts()\n",
    "(Segment/n_lin).plot(kind='bar')\n",
    "plt.title('Distribution of Segment')\n",
    "plt.gcf().autofmt_xdate()"
   ]
  },
  {
   "cell_type": "code",
   "execution_count": 16,
   "id": "10f2fd5d",
   "metadata": {},
   "outputs": [
    {
     "data": {
      "image/png": "[encoded data removed]",
      "text/plain": [
       "<Figure size 432x288 with 1 Axes>"
      ]
     },
     "metadata": {
      "needs_background": "light"
     },
     "output_type": "display_data"
    }
   ],
   "source": [
    "#analisando variáveis categoricas: Ship Mode\n",
    "Country = df['Country'].value_counts()\n",
    "(Country/n_lin).plot(kind='bar')\n",
    "plt.title('Distribution of Country')\n",
    "plt.gcf().autofmt_xdate()"
   ]
  },
  {
   "cell_type": "code",
   "execution_count": 17,
   "id": "0de56787",
   "metadata": {},
   "outputs": [
    {
     "data": {
      "image/png": "[encoded data removed]",
      "text/plain": [
       "<Figure size 432x288 with 1 Axes>"
      ]
     },
     "metadata": {
      "needs_background": "light"
     },
     "output_type": "display_data"
    }
   ],
   "source": [
    "#analisando variáveis categoricas: State - top 10\n",
    "State = df['State'].value_counts()\n",
    "State_max_10 = State.sort_values(ascending=False).head(10)\n",
    "(State_max_10/n_lin).plot(kind='bar')\n",
    "plt.title('Distribution of State - Top 10')\n",
    "plt.gcf().autofmt_xdate()\n"
   ]
  },
  {
   "cell_type": "code",
   "execution_count": 18,
   "id": "84c288f8",
   "metadata": {},
   "outputs": [
    {
     "data": {
      "image/png": "[encoded data removed]",
      "text/plain": [
       "<Figure size 432x288 with 1 Axes>"
      ]
     },
     "metadata": {
      "needs_background": "light"
     },
     "output_type": "display_data"
    }
   ],
   "source": [
    "#analisando variáveis categoricas: City - top 10\n",
    "City = df['City'].value_counts()\n",
    "City_max_10 = City.sort_values(ascending=False).head(10)\n",
    "(City_max_10/n_lin).plot(kind='bar')\n",
    "plt.title('Distribution of City - Top 10')\n",
    "plt.gcf().autofmt_xdate()\n"
   ]
  },
  {
   "cell_type": "code",
   "execution_count": 19,
   "id": "265266ba",
   "metadata": {},
   "outputs": [
    {
     "data": {
      "image/png": "[encoded data removed]",
      "text/plain": [
       "<Figure size 432x288 with 1 Axes>"
      ]
     },
     "metadata": {
      "needs_background": "light"
     },
     "output_type": "display_data"
    }
   ],
   "source": [
    "#analisando variáveis categoricas: Region\n",
    "Region = df['Region'].value_counts()\n",
    "(Region/n_lin).plot(kind='bar')\n",
    "plt.title('Distribution of Region')\n",
    "plt.gcf().autofmt_xdate()"
   ]
  },
  {
   "cell_type": "code",
   "execution_count": 20,
   "id": "3ec226f3",
   "metadata": {},
   "outputs": [
    {
     "data": {
      "image/png": "[encoded data removed]",
      "text/plain": [
       "<Figure size 432x288 with 1 Axes>"
      ]
     },
     "metadata": {
      "needs_background": "light"
     },
     "output_type": "display_data"
    }
   ],
   "source": [
    "#analisando variáveis categoricas: Category\n",
    "Category = df['Category'].value_counts()\n",
    "(Category/n_lin).plot(kind='bar')\n",
    "plt.title('Distribution of Category')\n",
    "plt.gcf().autofmt_xdate()"
   ]
  },
  {
   "cell_type": "code",
   "execution_count": 21,
   "id": "508deaf8",
   "metadata": {},
   "outputs": [
    {
     "data": {
      "image/png": "[encoded data removed]",
      "text/plain": [
       "<Figure size 432x288 with 1 Axes>"
      ]
     },
     "metadata": {
      "needs_background": "light"
     },
     "output_type": "display_data"
    }
   ],
   "source": [
    "#analisando variáveis categoricas: Category\n",
    "Sub_Category = df['Sub-Category'].value_counts()\n",
    "(Sub_Category/n_lin).plot(kind='bar')\n",
    "plt.title('Distribution of Sub-Category')\n",
    "plt.gcf().autofmt_xdate()"
   ]
  },
  {
   "cell_type": "code",
   "execution_count": 22,
   "id": "47149fbe",
   "metadata": {},
   "outputs": [
    {
     "data": {
      "image/png": "[encoded data removed]",
      "text/plain": [
       "<Figure size 432x288 with 1 Axes>"
      ]
     },
     "metadata": {
      "needs_background": "light"
     },
     "output_type": "display_data"
    }
   ],
   "source": [
    "#analisando variáveis categoricas: Product Name - top 10\n",
    "Product_Name = df['Product Name'].value_counts()\n",
    "Product_Name_max_10 = Product_Name.sort_values(ascending=False).head(10)\n",
    "(Product_Name_max_10/n_lin).plot(kind='bar')\n",
    "plt.title('Distribution of Product Name top 10')\n",
    "plt.gcf().autofmt_xdate()"
   ]
  },
  {
   "cell_type": "code",
   "execution_count": 23,
   "id": "85ea53b2",
   "metadata": {},
   "outputs": [],
   "source": [
    "#Verifica-se que não existe padronização na forma de nomear os produtos, alguns contendo até datas"
   ]
  },
  {
   "cell_type": "code",
   "execution_count": 24,
   "id": "05894e1e",
   "metadata": {},
   "outputs": [
    {
     "data": {
      "image/png": "[encoded data removed]",
      "text/plain": [
       "<Figure size 432x288 with 1 Axes>"
      ]
     },
     "metadata": {
      "needs_background": "light"
     },
     "output_type": "display_data"
    }
   ],
   "source": [
    "#Variáveis quantitativas: distribuição das vendas \n",
    "\n",
    "df.plot.scatter(x='Ship Date', y='Sales', label=\"Distribuição de Valor de Vendas\")\n",
    "plt.gcf().autofmt_xdate()"
   ]
  },
  {
   "cell_type": "code",
   "execution_count": 25,
   "id": "062bb924",
   "metadata": {},
   "outputs": [],
   "source": [
    "#Verifica-se a presença de alguns outliers nas vendas"
   ]
  },
  {
   "cell_type": "code",
   "execution_count": 26,
   "id": "9ffa98d0",
   "metadata": {},
   "outputs": [
    {
     "data": {
      "text/plain": [
       "<AxesSubplot:title={'center':'Row ID'}, xlabel='Quantity'>"
      ]
     },
     "execution_count": 26,
     "metadata": {},
     "output_type": "execute_result"
    },
    {
     "data": {
      "image/png": "[encoded data removed]",
      "text/plain": [
       "<Figure size 432x288 with 1 Axes>"
      ]
     },
     "metadata": {
      "needs_background": "light"
     },
     "output_type": "display_data"
    }
   ],
   "source": [
    "#Variáveis quantitativas: distribuição das quantidades\n",
    "\n",
    "df.boxplot(column=[\"Row ID\"], by=\"Quantity\")"
   ]
  },
  {
   "cell_type": "code",
   "execution_count": 27,
   "id": "dc63fec3",
   "metadata": {},
   "outputs": [],
   "source": [
    "#Parece consistente "
   ]
  },
  {
   "cell_type": "code",
   "execution_count": 28,
   "id": "56a5912e",
   "metadata": {},
   "outputs": [
    {
     "data": {
      "text/plain": [
       "<AxesSubplot:title={'center':'Row ID'}, xlabel='Discount'>"
      ]
     },
     "execution_count": 28,
     "metadata": {},
     "output_type": "execute_result"
    },
    {
     "data": {
      "image/png": "[encoded data removed]",
      "text/plain": [
       "<Figure size 432x288 with 1 Axes>"
      ]
     },
     "metadata": {
      "needs_background": "light"
     },
     "output_type": "display_data"
    }
   ],
   "source": [
    "#Variáveis quantitativas: distribuição dos Descontos\n",
    "\n",
    "df.boxplot(column=[\"Row ID\"], by=\"Discount\")"
   ]
  },
  {
   "cell_type": "code",
   "execution_count": 29,
   "id": "aa4770da",
   "metadata": {},
   "outputs": [],
   "source": [
    "#Parece consistente, apesar da média de 45% de desconto estar deslocada em relação as demais"
   ]
  },
  {
   "cell_type": "code",
   "execution_count": 30,
   "id": "cc81439f",
   "metadata": {},
   "outputs": [
    {
     "data": {
      "image/png": "[encoded data removed]",
      "text/plain": [
       "<Figure size 432x288 with 1 Axes>"
      ]
     },
     "metadata": {
      "needs_background": "light"
     },
     "output_type": "display_data"
    }
   ],
   "source": [
    "#Variáveis quantitativas: distribuição das quantidades\n",
    "\n",
    "df.plot.scatter(x='Ship Date', y='Profit', label=\"Distribuição de Lucro\")\n",
    "plt.gcf().autofmt_xdate()"
   ]
  },
  {
   "cell_type": "code",
   "execution_count": 31,
   "id": "aa406282",
   "metadata": {},
   "outputs": [],
   "source": [
    "# Verifica-se pontos de atençao com alguns outliers positivos e negativos em relação aos lucros"
   ]
  },
  {
   "cell_type": "code",
   "execution_count": 32,
   "id": "f5bad4bd",
   "metadata": {},
   "outputs": [],
   "source": [
    "# Verificou-se algumas anomalias em relação a dados de Profit (Lucro), Sales (Vendas), Product Name(Nome de produto) e ao Order Id.\n",
    "# Além disso, a plotagem das variáveis permitiu de forma rápida uma possivel identificação de outliers e o entendimento do comportamento das variáveis\n",
    "# Algumas variáveis categoricas não eram tão relevantes em relação ao problema, mas eram de fácil plotagem por isso as fiz também (afinal, é bom ser curioso não é?)"
   ]
  },
  {
   "cell_type": "code",
   "execution_count": 33,
   "id": "8143f334",
   "metadata": {},
   "outputs": [],
   "source": [
    "## Cenário II\n",
    "\n",
    "# O segundo entregável consiste na transformação de dados disponíveis em <a href=\"https://drive.google.com/file/d/1IDCjpDZh5St97jw4K_bAewJ8hf-rax9C/view?usp=sharing\">arquivo Json</a> \n",
    "# para o formato de dataframe, algo comum no dia a dia da empresa. \n",
    "# Após transformar esse Json em dataframe é possível perceber que a coluna \"item_list\" está como dicionário. \n",
    "# Seu gestor pediu dois pontos de atenção nessa tarefa:\n",
    "\n",
    "# - Expandir a coluna num mesmo dataframe;\n",
    "# - Normalizar os itens dessa coluna de dicionário e dividí-los em dois dataframes separados, seguindo o modelo relacional."
   ]
  },
  {
   "cell_type": "code",
   "execution_count": 34,
   "id": "076538e3",
   "metadata": {},
   "outputs": [],
   "source": [
    "## ------- Resposta Cenário II ------- ##\n"
   ]
  },
  {
   "cell_type": "code",
   "execution_count": 35,
   "id": "9f2b81ba",
   "metadata": {},
   "outputs": [
    {
     "data": {
      "text/html": [
       "<div>\n",
       "<style scoped>\n",
       "    .dataframe tbody tr th:only-of-type {\n",
       "        vertical-align: middle;\n",
       "    }\n",
       "\n",
       "    .dataframe tbody tr th {\n",
       "        vertical-align: top;\n",
       "    }\n",
       "\n",
       "    .dataframe thead th {\n",
       "        text-align: right;\n",
       "    }\n",
       "</style>\n",
       "<table border=\"1\" class=\"dataframe\">\n",
       "  <thead>\n",
       "    <tr style=\"text-align: right;\">\n",
       "      <th></th>\n",
       "      <th>CreateDate</th>\n",
       "      <th>EmissionDate</th>\n",
       "      <th>Discount</th>\n",
       "      <th>NFeNumber</th>\n",
       "      <th>NFeID</th>\n",
       "      <th>ItemList</th>\n",
       "    </tr>\n",
       "  </thead>\n",
       "  <tbody>\n",
       "    <tr>\n",
       "      <th>0</th>\n",
       "      <td>2021-05-24T20:21:34.79</td>\n",
       "      <td>2021-05-24T00:00:00</td>\n",
       "      <td>0</td>\n",
       "      <td>501</td>\n",
       "      <td>1</td>\n",
       "      <td>[{'ProductName': 'Rice', 'Value': 35.55, 'Quan...</td>\n",
       "    </tr>\n",
       "    <tr>\n",
       "      <th>1</th>\n",
       "      <td>2021-05-24T20:21:34.79</td>\n",
       "      <td>2021-05-24T00:00:00</td>\n",
       "      <td>0</td>\n",
       "      <td>502</td>\n",
       "      <td>2</td>\n",
       "      <td>[{'ProductName': 'Tomate', 'Value': 12.25, 'Qu...</td>\n",
       "    </tr>\n",
       "    <tr>\n",
       "      <th>2</th>\n",
       "      <td>2021-05-24T20:21:34.79</td>\n",
       "      <td>2021-05-24T00:00:00</td>\n",
       "      <td>0</td>\n",
       "      <td>503</td>\n",
       "      <td>3</td>\n",
       "      <td>[{'ProductName': 'Beer', 'Value': 9.0, 'Quanti...</td>\n",
       "    </tr>\n",
       "  </tbody>\n",
       "</table>\n",
       "</div>"
      ],
      "text/plain": [
       "               CreateDate         EmissionDate  Discount  NFeNumber  NFeID  \\\n",
       "0  2021-05-24T20:21:34.79  2021-05-24T00:00:00         0        501      1   \n",
       "1  2021-05-24T20:21:34.79  2021-05-24T00:00:00         0        502      2   \n",
       "2  2021-05-24T20:21:34.79  2021-05-24T00:00:00         0        503      3   \n",
       "\n",
       "                                            ItemList  \n",
       "0  [{'ProductName': 'Rice', 'Value': 35.55, 'Quan...  \n",
       "1  [{'ProductName': 'Tomate', 'Value': 12.25, 'Qu...  \n",
       "2  [{'ProductName': 'Beer', 'Value': 9.0, 'Quanti...  "
      ]
     },
     "execution_count": 35,
     "metadata": {},
     "output_type": "execute_result"
    }
   ],
   "source": [
    "data = pd.read_json(r'C:\\Users\\Samuel\\Documents\\GitHub\\Teste-Cientista-de-Dados-\\data.json')\n",
    "data.head()"
   ]
  },
  {
   "cell_type": "code",
   "execution_count": 36,
   "id": "1f215189",
   "metadata": {},
   "outputs": [
    {
     "name": "stdout",
     "output_type": "stream",
     "text": [
      "   index              CreateDate         EmissionDate  Discount  NFeNumber  \\\n",
      "0      0  2021-05-24T20:21:34.79  2021-05-24T00:00:00         0        501   \n",
      "1      0  2021-05-24T20:21:34.79  2021-05-24T00:00:00         0        501   \n",
      "2      0  2021-05-24T20:21:34.79  2021-05-24T00:00:00         0        501   \n",
      "3      1  2021-05-24T20:21:34.79  2021-05-24T00:00:00         0        502   \n",
      "4      1  2021-05-24T20:21:34.79  2021-05-24T00:00:00         0        502   \n",
      "5      2  2021-05-24T20:21:34.79  2021-05-24T00:00:00         0        503   \n",
      "6      2  2021-05-24T20:21:34.79  2021-05-24T00:00:00         0        503   \n",
      "7      2  2021-05-24T20:21:34.79  2021-05-24T00:00:00         0        503   \n",
      "\n",
      "   NFeID   ProductName  Value  Quantity  \n",
      "0      1          Rice  35.55         2  \n",
      "1      1         Flour  11.55         5  \n",
      "2      1          Bean  27.15         7  \n",
      "3      2        Tomate  12.25        10  \n",
      "4      2         Pasta   7.55         5  \n",
      "5      3          Beer   9.00         6  \n",
      "6      3  French fries  10.99         2  \n",
      "7      3     Ice cream  27.15         1  \n"
     ]
    }
   ],
   "source": [
    "#Expandindo e normalizando num mesmo dataframe!\n",
    "\n",
    "data2 = data.explode('ItemList')\n",
    "data2 = pd.concat([data2.drop(['ItemList'], axis=1), data2['ItemList'].apply(pd.Series)], axis=1)\n",
    "data2 = data2.reset_index()\n",
    "print(data2)"
   ]
  },
  {
   "cell_type": "code",
   "execution_count": 317,
   "id": "b189e03c",
   "metadata": {},
   "outputs": [
    {
     "name": "stdout",
     "output_type": "stream",
     "text": [
      "   NFeID   ProductName  Value  Quantity\n",
      "0      1          Rice  35.55         2\n",
      "1      1         Flour  11.55         5\n",
      "2      1          Bean  27.15         7\n",
      "3      2        Tomate  12.25        10\n",
      "4      2         Pasta   7.55         5\n",
      "5      3          Beer   9.00         6\n",
      "6      3  French fries  10.99         2\n",
      "7      3     Ice cream  27.15         1\n"
     ]
    }
   ],
   "source": [
    "# Dividindo em dois dataframes \n",
    "# Não ficou muito claro em qual o tipo de relação que devo estabelecer para o modelo relacional citado então vou dividir tendo o NFeID como indexador\n",
    "\n",
    "dataframe1 = data[['CreateDate', 'EmissionDate', 'Discount', 'NFeNumber', 'NFeID' ]]\n",
    "\n",
    "dataframe2 = data2[['NFeID', 'ProductName', 'Value', 'Quantity']]\n",
    "\n",
    "print(dataframe2)\n",
    "\n",
    "\n"
   ]
  },
  {
   "cell_type": "code",
   "execution_count": 38,
   "id": "ee5b092a",
   "metadata": {},
   "outputs": [],
   "source": [
    "## Cenário III\n",
    "\n",
    "# O Problema do Caixeiro Viajante (Traveling Salesperson - TSP) é um dos mais famosos problemas de otimização combinatória. \n",
    "# Este problema é muito fácil de explicar, mas muito complicado de resolver - mesmo para casos com um pequeno número de cidades.\n",
    "\n",
    "# A origem do problema do caixeiro viajante não é muito clara; \n",
    "# ele chega a ser mencionado em um manual de 1832 para caixeiros-viajantes,\n",
    "# que incluía exemplos de passeios por 45 cidades alemãs, mas não foi formulado originalmente como um problema matemático.\n",
    "# No entanto, em 1800, os matemáticos William Rowan Hamilton e Thomas Kirkman criaram formulações matemáticas do problema.\n",
    "\n",
    "# O TSP pode ser definido da seguinte forma: para uma determinada lista de cidades e as distâncias entre cada par delas, \n",
    "# queremos encontrar a rota mais curta possível, que vai a cada cidade uma vez e retorna à cidade de origem.\n",
    "\n",
    "# Existe uma classe de Problemas de Pessoa Caixeira Viajante que assume que a distância de ir da cidade $ i $ \n",
    "# à cidade $ j $ é a mesma que ir da cidade $ j $ à cidade $ i $, este tipo de TSP também é conhecido como TSP simétrico. \n",
    "# Para o seguinte cenário sugerimos usar distâncias euclidianas, mas a formulação do modelo TSP é válida independentemente \n",
    "# da forma como as distâncias individuais são determinadas.\n",
    "\n",
    "# A programação matemática é uma abordagem declarativa em que o modelador formula um modelo de otimização matemática \n",
    "# que captura os principais aspectos de um problema de decisão complexo. \n",
    "\n",
    "# Um modelo de otimização matemática tipicamente vai possuir cinco componentes, a saber:\n",
    "\n",
    "# * Conjuntos e índices;\n",
    "# * Parâmetros;\n",
    "# * Variáveis ​​de decisão;\n",
    "# * Função (ões) objetivo (s);\n",
    "# * Quaisquer restrições.\n",
    "\n",
    "# Como entregável, a indústria necessita de uma formulação de TSP que identifique a rota mais curta para as capitais \n",
    "# brasileiras, que vai a todas as cidades uma vez e retorna à cidade de origem \n",
    "#(os arquivos a serem utilizados, contendo os dados das capitais brasileiras a serem utilizados nesse cenário, você encontra \n",
    "# <a href=\"https://drive.google.com/drive/folders/1pip1P29vKGYWUOSD0hVrdNLNQcGzG3eN?usp=sharing\">aqui</a>)\n",
    "\n",
    "# states_coords.csv: contém a latitude e longitude de cada capital de estado brasileiro;\n",
    "# states_line.json: contém o nome dos estados e a distância em km de todos os pares possíveis assumindo uma linha conectando as cidades;\n",
    "# states_gmaps.json: contém o nome dos estados e a distância em km de todos os pares possíveis com as informações do Google a respeito."
   ]
  },
  {
   "cell_type": "code",
   "execution_count": 39,
   "id": "a10d2124",
   "metadata": {},
   "outputs": [],
   "source": [
    "## ------- Resposta Cenário III ------- ##\n"
   ]
  },
  {
   "cell_type": "code",
   "execution_count": 40,
   "id": "dedc7d81",
   "metadata": {},
   "outputs": [],
   "source": [
    "# Sobre o problema\n",
    "\n",
    "# Apesar de a simetria entre idas e voltas entre cada cidade reduzir pela metade o número de rotas, \n",
    "# o modelo em questão cresce de forma fatorial, e como estamos lidando com uma quantidade grande de cidades, \n",
    "# o método de verificação uma a uma tende a se tornar inviável para o escopo de processamento desse exercício. \n",
    "# Dessa forma, verificarei rotas a partir dos vizinhos mais próximos e compararei as rotas obtidas entre as 26 cidades para achar qual delas é a menor.\n",
    "# Como a rota é circular, a menor das rotas entre as 26 rotas poderá ser utilizada para partir para qualquer cidade, basta respeita a ordem desta."
   ]
  },
  {
   "cell_type": "code",
   "execution_count": 285,
   "id": "b7dbdcd9",
   "metadata": {},
   "outputs": [
    {
     "name": "stdout",
     "output_type": "stream",
     "text": [
      "     São Paulo  Rio de Janeiro  Minas Gerais  Rio Grande do Sul   Pernambuco  \\\n",
      "0     0.000000      354.557321    492.561745         852.763702  2126.951268   \n",
      "1   354.557321        0.000000    342.337926        1121.072276  1875.035468   \n",
      "2   492.561745      342.337926      0.000000        1344.567917  1635.086515   \n",
      "3   852.763702     1121.072276   1344.567917           0.000000  2975.531406   \n",
      "4  2126.951268     1875.035468   1635.086515        2975.531406     0.000000   \n",
      "\n",
      "         Ceará        Bahia       Paraná         Pará        Goiás  ...  \\\n",
      "0  2366.805644  1457.532585   342.443520  2467.265855   810.258174  ...   \n",
      "1  2190.647081  1215.465687   677.792623  2455.146750   938.003328  ...   \n",
      "2  1888.834505   965.600360   826.013748  2113.032483   670.440922  ...   \n",
      "3  3212.503748  2306.960107   547.212395  3194.128093  1495.239654  ...   \n",
      "4   629.108539   669.488856  2460.033424  1673.663528  1833.172567  ...   \n",
      "\n",
      "       Paraíba        Piauí  Mato Grosso  Mato Grosso do Sul      Sergipe  \\\n",
      "0  2219.374772  2094.675477  1330.507665          893.525598  1731.087701   \n",
      "1  1973.855227  1983.803733  1577.605256         1208.758382  1486.300610   \n",
      "2  1726.940870  1652.997918  1376.313628         1118.632967  1238.956225   \n",
      "3  3069.619614  2912.951307  1686.118439         1121.554669  2580.662593   \n",
      "4   108.480926   929.975492  2448.546265         2526.112206   396.445424   \n",
      "\n",
      "         Amapá     Rondônia         Acre    Tocantins      Roraima  \n",
      "0  2667.276248  2468.533941  2708.559270  1492.162778  3304.536603  \n",
      "1  2690.286145  2710.242987  2984.087454  1510.388182  3431.919571  \n",
      "2  2351.045347  2482.002571  2790.495163  1174.123563  3120.769148  \n",
      "3  3346.164787  2712.819615  2820.369451  2224.310608  3791.702726  \n",
      "4  2003.187408  3189.355451  3617.166405  1487.819797  3103.051463  \n",
      "\n",
      "[5 rows x 26 columns]\n"
     ]
    }
   ],
   "source": [
    "# lendo dados\n",
    "\n",
    "states_coords = pd.read_csv(r'C:\\Users\\Samuel\\Documents\\GitHub\\Teste-Cientista-de-Dados-\\states_coords.csv')\n",
    "states_line = pd.read_csv(r'C:\\Users\\Samuel\\Documents\\GitHub\\Teste-Cientista-de-Dados-\\states_line.csv')\n",
    "states_gmaps = pd.read_csv(r'C:\\Users\\Samuel\\Documents\\GitHub\\Teste-Cientista-de-Dados-\\states_gmaps.csv')\n",
    "\n",
    "#states_coords.head()\n",
    "#states_line.head()\n",
    "print(states_line.head())"
   ]
  },
  {
   "cell_type": "code",
   "execution_count": 266,
   "id": "60b7d8b2",
   "metadata": {},
   "outputs": [],
   "source": [
    "# usarei os dados do states_line pois estão mais completos\n"
   ]
  },
  {
   "cell_type": "code",
   "execution_count": 283,
   "id": "98126790",
   "metadata": {},
   "outputs": [],
   "source": [
    "#variaveis iniciais\n",
    "df = states_line.copy(deep=True)\n",
    "df2 = states_line.copy(deep=True)\n",
    "cidades_list = df.columns\n",
    "n = cidades_list.shape[0] - 1 \n",
    " \n",
    "cidades = pd.DataFrame({'cidades':cidades_list})\n",
    "lista=[]\n",
    "\n",
    "#criando uma rota tendo cada cidade como origem \n",
    "n0 = 0\n",
    "while n0 <= n:\n",
    "    dist_total = 0\n",
    "    index_origem = n0\n",
    "    cidade_origem = cidades.iloc[index_origem][0]\n",
    "    rota = cidade_origem\n",
    "\n",
    "    #criando a rota a partir do vizinho mais próximo\n",
    "    i=0\n",
    "    while i < n:    \n",
    "        #selecionando coluna de origem da viagem \n",
    "        coluna_destino = df2[df2.columns[index_origem]]\n",
    "\n",
    "        #escolhendo menor valor maior que 0, menor distancia positiva das opções (vizinho mais próximo)\n",
    "        distancia = min(j for j in coluna_destino if j > 0)\n",
    "        index_destino = np.where(coluna_destino == distancia)[0][0]\n",
    "        cidade_destino = cidades.iloc[index_destino][0]\n",
    "\n",
    "        #adicionando dados do vizinho mais proximo\n",
    "        rota = rota+' - '+cidade_destino\n",
    "        dist_total = dist_total + distancia\n",
    "\n",
    "        #zerando linha da cidade origem\n",
    "        df2.iloc[[index_origem]]=0\n",
    "        #cidade de destino vira cidade de origem\n",
    "        cidade_origem = cidade_destino\n",
    "        index_origem = index_destino\n",
    "        #contador recebe +1\n",
    "        i+=1\n",
    "    #adicionando a rota da volta a cidade de origem\n",
    "    distancia = df.iloc[n0,index_origem]\n",
    "    cidade_destino = cidades.iloc[n0][0]\n",
    "    rota = rota+' - '+cidade_destino\n",
    "    dist_total = dist_total + distancia\n",
    "\n",
    "    #juntando os dados dessa rota a uma lista\n",
    "    lista.append({'rota': rota, 'distancia': dist_total})\n",
    "    df2 = states_line.copy(deep=True)\n",
    "    n0+=1\n",
    "#convertendo lista em Dataframe com todas as rotas começando em cada cidade\n",
    "rotas_df= pd.DataFrame(lista,columns=['rota','distancia'])\n",
    "\n",
    "#escolhendo a melhor rota, que servirá para qualquer cidade\n",
    "rota_otimizada = rotas_df.min(axis=0)\n"
   ]
  },
  {
   "cell_type": "code",
   "execution_count": 295,
   "id": "58ddec77",
   "metadata": {},
   "outputs": [
    {
     "name": "stdout",
     "output_type": "stream",
     "text": [
      "Rota otimizada: \n",
      "Acre - Rondônia - Amazonas - Roraima - Amapá - Pará - Maranhão - Piauí - Ceará - Rio Grande do Norte - Paraíba - Pernambuco - Alagoas - Sergipe - Bahia - Espírito Santo - Minas Gerais - Rio de Janeiro - São Paulo - Paraná - Santa Catarina - Rio Grande do Sul - Mato Grosso do Sul - Mato Grosso - Goiás - Tocantins - Acre\n",
      "\n",
      "Distância total (km): \n",
      "14138.226499332766\n"
     ]
    }
   ],
   "source": [
    "print('Rota otimizada: ')\n",
    "print(rota_otimizada[0])\n",
    "print('')\n",
    "print('Distância total (km): ')\n",
    "print(rota_otimizada[1])"
   ]
  },
  {
   "cell_type": "code",
   "execution_count": null,
   "id": "dd88070a",
   "metadata": {},
   "outputs": [],
   "source": [
    "## Entregáveis\n",
    "\n",
    "Já o quarto entregável pode estar contido como comentários em suas soluções prévias, queremos entender melhor como foi seu processo de solução de problemas, quais as hipóteses levantadas e, se tivesse mais tempo, como você poderia melhorar a implementação proposta.\n",
    "\n",
    "Ou seja, temos quatro entregáveis:\n",
    "\n",
    "- Relatório com exemplos de anomalias encontradas e possibilidades dentro da sua experiência e com relação aos dados da base;\n",
    "- Resolução de problema de transformação de dados (NF-e);\n",
    "- TSP (Traveling Salesperson Problem) resolvido para as capitais brasileiras;\n",
    "- Comentários a respeito da implementações propostas e melhorias (desenvolvimento incremental)."
   ]
  },
  {
   "cell_type": "code",
   "execution_count": null,
   "id": "472e6ea4",
   "metadata": {},
   "outputs": [],
   "source": [
    "# gostei dos exercícios, foram legais de se fazer e pensar\n",
    "# acabei não definindo funções porque achei os códigos pequenos, mas acho que poderia ter implementado nos gráficos e na última questão para poupar umas linhas e deixar mais enxuto\n",
    "# a parte relacional da segunda questão me pareceu bem em aberto então escolhi dois dataframes que tem relação por meio do NFeID\n",
    "# se tivesse mais tempo acredito que poderia achar relações entre variáveis significativas na primeira questão, verificar dados estatísticos das variáveis e colocar cor nos gráficos\n",
    "# se tivesse mais tempo poderia estudar outras formas de otimização e fazer um comparativo de resultados entre elas na última questão\n",
    "\n",
    "# acredito que comentei bastante durante as questões, mas qualquer dúvida é só me avisar!"
   ]
  },
  {
   "cell_type": "code",
   "execution_count": null,
   "id": "fc05c5f5",
   "metadata": {},
   "outputs": [],
   "source": []
  },
  {
   "cell_type": "code",
   "execution_count": null,
   "id": "95814d9a",
   "metadata": {},
   "outputs": [],
   "source": []
  },
  {
   "cell_type": "code",
   "execution_count": null,
   "id": "28bba685",
   "metadata": {},
   "outputs": [],
   "source": [
    "## Dados\n",
    "\n",
    "| Table            | Total Rows | Total Columns                                              |\n",
    "| -----------------|:--------:  | :---------------------------------------------------------:|\n",
    "| Orders           | 9994       | 21                                                         |\n",
    "| People           | 4          | 2                                                          |\n",
    "| Returns          | 296        | 2                                                          |"
   ]
  },
  {
   "cell_type": "code",
   "execution_count": null,
   "id": "cce9d42d",
   "metadata": {},
   "outputs": [],
   "source": [
    "## O que será avaliado?\n",
    "\n",
    "1. Buscamos soluções bem definidas e baseadas em método: soube mostrar quais as hipóteses levantadas? Precisou ao menos de modo resumido o por que escolheu determinado caminho? Quais os prós e contras usados para se basear essa solução e quais os passos para implementá-la?\n",
    "2. Qualidades dos entregáveis, tanto o report de anomalias encontradas quanto o TSP resolvido.  \n",
    "3. A eficiência do método utilizado para a verificação de anomalias.\n",
    "4. Se tivesse mais tempo, o que você faria para melhorar a sua solução?\n",
    "\n",
    "Obrigado pela sua participação."
   ]
  },
  {
   "cell_type": "code",
   "execution_count": null,
   "id": "c5dbee44",
   "metadata": {},
   "outputs": [],
   "source": [
    "## \n",
    "\n",
    "“Perception is strong and sight weak. In strategy it is important to see distant things as if they were close and to take a distanced view of close things.”\n",
    "\n",
    "Miyamoto Musashi. Japanese martial artist, philosopher, strategist, writer, artist (1584-1645).\n",
    "\n",
    "がんばろう\n"
   ]
  }
 ],
 "metadata": {
  "kernelspec": {
   "display_name": "Python 3 (ipykernel)",
   "language": "python",
   "name": "python3"
  },
  "language_info": {
   "codemirror_mode": {
    "name": "ipython",
    "version": 3
   },
   "file_extension": ".py",
   "mimetype": "text/x-python",
   "name": "python",
   "nbconvert_exporter": "python",
   "pygments_lexer": "ipython3",
   "version": "3.9.6"
  }
 },
 "nbformat": 4,
 "nbformat_minor": 5
}
